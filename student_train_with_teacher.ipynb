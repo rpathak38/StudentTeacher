{
 "cells": [
  {
   "cell_type": "code",
   "execution_count": null,
   "id": "initial_id",
   "metadata": {
    "collapsed": true
   },
   "outputs": [],
   "source": [
    "%load_ext autoreload\n",
    "%autoreload 2\n",
    "import sys\n",
    "import os\n",
    "import matplotlib.pyplot as plt\n",
    "import torch\n",
    "from visualizer import visualize_random_image\n",
    "from train import setup_train_args, build, test"
   ]
  },
  {
   "cell_type": "code",
   "execution_count": null,
   "outputs": [],
   "source": [
    "datasets = [\"Kvasir\", \"CVC\", \"both\"]\n",
    "dataset = datasets[2]"
   ],
   "metadata": {
    "collapsed": false
   },
   "id": "2085f98ee3f938e2"
  },
  {
   "cell_type": "code",
   "execution_count": null,
   "outputs": [],
   "source": [
    "args_train_student = setup_train_args(my_model=\"unet\", temperature=4, alpha=0.9, dataset=dataset,\n",
    "                                      data_root=\"./data_root/\", batch_size=8, epochs=20, learning_rate=0.01)\n",
    "from train import student_train_epoch"
   ],
   "metadata": {
    "collapsed": false
   },
   "id": "4d04136fc87ac5e9"
  },
  {
   "cell_type": "code",
   "execution_count": null,
   "outputs": [],
   "source": [
    "def train_student(args):\n",
    "    (device,\n",
    "     train_dataloader,\n",
    "     test_dataloader,\n",
    "     val_dataloader,\n",
    "     Dice_loss,\n",
    "     BCE_loss,\n",
    "     KLT_loss,\n",
    "     perf,\n",
    "     student_model,\n",
    "     teach_model,\n",
    "     optimizer,\n",
    "     alpha,\n",
    "     temperature) = build(args)\n",
    "\n",
    "    loss_storage = []\n",
    "    # performance metric is dice score\n",
    "    perf_storage = []\n",
    "\n",
    "    if not os.path.exists(\"./Trained models\"):\n",
    "        os.makedirs(\"./Trained models\")\n",
    "\n",
    "    prev_best_test = None\n",
    "    if args.lrs == \"true\":\n",
    "        if args.lrs_min > 0:\n",
    "            scheduler = torch.optim.lr_scheduler.ReduceLROnPlateau(\n",
    "                optimizer, mode=\"max\", factor=0.5, patience=5, min_lr=args.lrs_min, verbose=True\n",
    "            )\n",
    "        else:\n",
    "            scheduler = torch.optim.lr_scheduler.ReduceLROnPlateau(\n",
    "                optimizer, mode=\"max\", factor=0.5, patience=5, verbose=True\n",
    "            )\n",
    "    for epoch in range(1, args.epochs + 1):\n",
    "        try:\n",
    "            loss = student_train_epoch(student_model, teach_model, device, train_dataloader,\n",
    "                                       optimizer, epoch, Dice_loss, BCE_loss, KLT_loss, temperature, alpha)\n",
    "\n",
    "            test_measure_mean, test_measure_std = test(\n",
    "                student_model, device, val_dataloader, epoch, perf\n",
    "            )\n",
    "            # add means and loss for vis\n",
    "            loss_storage.append(loss)\n",
    "            perf_storage.append(test_measure_mean)\n",
    "\n",
    "        except KeyboardInterrupt:\n",
    "            print(\"Training interrupted by user\")\n",
    "            sys.exit(0)\n",
    "        if args.lrs == \"true\":\n",
    "            scheduler.step(test_measure_mean)\n",
    "        if prev_best_test == None or test_measure_mean > prev_best_test:\n",
    "            print(\"Saving...\")\n",
    "            torch.save(\n",
    "                {\n",
    "                    \"epoch\": epoch,\n",
    "                    \"model_state_dict\": student_model.state_dict()\n",
    "                    if args.mgpu is False\n",
    "                    else student_model.module.state_dict(),\n",
    "                    \"optimizer_state_dict\": optimizer.state_dict(),\n",
    "                    \"loss\": loss,\n",
    "                    \"test_measure_mean\": test_measure_mean,\n",
    "                    \"test_measure_std\": test_measure_std,\n",
    "                },\n",
    "                f\"Trained_student_models/teacher_supported/{student_model}_temp_{temperature}_alpha_{alpha}\" + args.dataset + \".pt\",\n",
    "            )\n",
    "            prev_best_test = test_measure_mean\n",
    "        visualize_random_image(test_dataloader, student_model)\n",
    "    return loss_storage, perf_storage"
   ],
   "metadata": {
    "collapsed": false
   },
   "id": "62fc06d506e50bc4"
  },
  {
   "cell_type": "code",
   "execution_count": null,
   "outputs": [],
   "source": [],
   "metadata": {
    "collapsed": false
   },
   "id": "1e5cba833e89a827"
  }
 ],
 "metadata": {
  "kernelspec": {
   "display_name": "Python 3",
   "language": "python",
   "name": "python3"
  },
  "language_info": {
   "codemirror_mode": {
    "name": "ipython",
    "version": 2
   },
   "file_extension": ".py",
   "mimetype": "text/x-python",
   "name": "python",
   "nbconvert_exporter": "python",
   "pygments_lexer": "ipython2",
   "version": "2.7.6"
  }
 },
 "nbformat": 4,
 "nbformat_minor": 5
}
