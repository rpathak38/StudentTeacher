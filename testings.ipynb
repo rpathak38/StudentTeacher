{
 "cells": [
  {
   "cell_type": "code",
   "execution_count": 1,
   "id": "initial_id",
   "metadata": {
    "collapsed": true,
    "ExecuteTime": {
     "end_time": "2023-12-12T07:37:11.807580239Z",
     "start_time": "2023-12-12T07:37:10.268212830Z"
    }
   },
   "outputs": [
    {
     "name": "stderr",
     "output_type": "stream",
     "text": [
      "/home/droneresearch/student_teacher/Models/pvt_v2.py:331: UserWarning: Overwriting pvt_v2_b0 in registry with Models.pvt_v2.pvt_v2_b0. This is because the name being registered conflicts with an existing name. Please check if this is not expected.\n",
      "  @register_model\n",
      "/home/droneresearch/student_teacher/Models/pvt_v2.py:342: UserWarning: Overwriting pvt_v2_b1 in registry with Models.pvt_v2.pvt_v2_b1. This is because the name being registered conflicts with an existing name. Please check if this is not expected.\n",
      "  @register_model\n",
      "/home/droneresearch/student_teacher/Models/pvt_v2.py:353: UserWarning: Overwriting pvt_v2_b2 in registry with Models.pvt_v2.pvt_v2_b2. This is because the name being registered conflicts with an existing name. Please check if this is not expected.\n",
      "  @register_model\n",
      "/home/droneresearch/student_teacher/Models/pvt_v2.py:363: UserWarning: Overwriting pvt_v2_b3 in registry with Models.pvt_v2.pvt_v2_b3. This is because the name being registered conflicts with an existing name. Please check if this is not expected.\n",
      "  @register_model\n",
      "/home/droneresearch/student_teacher/Models/pvt_v2.py:374: UserWarning: Overwriting pvt_v2_b4 in registry with Models.pvt_v2.pvt_v2_b4. This is because the name being registered conflicts with an existing name. Please check if this is not expected.\n",
      "  @register_model\n",
      "/home/droneresearch/student_teacher/Models/pvt_v2.py:385: UserWarning: Overwriting pvt_v2_b5 in registry with Models.pvt_v2.pvt_v2_b5. This is because the name being registered conflicts with an existing name. Please check if this is not expected.\n",
      "  @register_model\n",
      "/home/droneresearch/student_teacher/Models/pvt_v2.py:396: UserWarning: Overwriting pvt_v2_b2_li in registry with Models.pvt_v2.pvt_v2_b2_li. This is because the name being registered conflicts with an existing name. Please check if this is not expected.\n",
      "  @register_model\n"
     ]
    }
   ],
   "source": [
    "%load_ext autoreload\n",
    "%autoreload 2\n",
    "\n",
    "import sys\n",
    "import os\n",
    "import matplotlib.pyplot as plt\n",
    "import torch\n",
    "from visualizer import visualize_random_image\n",
    "from train import setup_train_args, build, test\n",
    "\n",
    "datasets = [\"Kvasir\", \"CVC\", \"both\"]\n",
    "dataset = datasets[2]\n",
    "args_train_student = setup_train_args(my_model=\"unet\", temperature=4, alpha=0.9, dataset=dataset,\n",
    "                                      data_root=\"./data_root/\", batch_size=8, epochs=20, learning_rate=0.001)\n",
    "from train import train_epoch"
   ]
  },
  {
   "cell_type": "code",
   "execution_count": 2,
   "outputs": [],
   "source": [
    "(device,\n",
    "     train_dataloader,\n",
    "     test_dataloader,\n",
    "     val_dataloader,\n",
    "     Dice_loss,\n",
    "     BCE_loss,\n",
    "     KLT_loss,\n",
    "     perf,\n",
    "     student_model,\n",
    "     _,\n",
    "     optimizer,\n",
    "     alpha,\n",
    "     temperature) = build(args_train_student)"
   ],
   "metadata": {
    "collapsed": false,
    "ExecuteTime": {
     "end_time": "2023-12-12T07:37:20.242408261Z",
     "start_time": "2023-12-12T07:37:18.350661780Z"
    }
   },
   "id": "c76c81f385a0e4ac"
  },
  {
   "cell_type": "code",
   "execution_count": 4,
   "outputs": [
    {
     "data": {
      "text/plain": "(12.758471802895114, 87.24152819710488)"
     },
     "execution_count": 4,
     "metadata": {},
     "output_type": "execute_result"
    }
   ],
   "source": [
    "total_pixels = 0\n",
    "one_count = 0\n",
    "\n",
    "# Loop through the DataLoader\n",
    "for _, mask in train_dataloader:\n",
    "    # Binarize the mask: pixels < 0.5 become 0, >= 0.5 become 1\n",
    "    binarized_mask = (mask >= 0.5).float()\n",
    "\n",
    "    # Count the number of ones and total pixels\n",
    "    one_count += torch.sum(binarized_mask).item()\n",
    "    total_pixels += binarized_mask.numel()\n",
    "\n",
    "# Calculate the percentage of each pixel type\n",
    "one_percentage = (one_count / total_pixels) * 100\n",
    "zero_percentage = 100 - one_percentage\n",
    "\n",
    "one_percentage, zero_percentage"
   ],
   "metadata": {
    "collapsed": false,
    "ExecuteTime": {
     "end_time": "2023-12-12T07:40:47.128578580Z",
     "start_time": "2023-12-12T07:40:34.016231317Z"
    }
   },
   "id": "c15cc3764e6a5e26"
  },
  {
   "cell_type": "code",
   "execution_count": null,
   "outputs": [],
   "source": [],
   "metadata": {
    "collapsed": false
   },
   "id": "b649216b72d4e471"
  }
 ],
 "metadata": {
  "kernelspec": {
   "display_name": "Python 3",
   "language": "python",
   "name": "python3"
  },
  "language_info": {
   "codemirror_mode": {
    "name": "ipython",
    "version": 2
   },
   "file_extension": ".py",
   "mimetype": "text/x-python",
   "name": "python",
   "nbconvert_exporter": "python",
   "pygments_lexer": "ipython2",
   "version": "2.7.6"
  }
 },
 "nbformat": 4,
 "nbformat_minor": 5
}
