{
 "cells": [
  {
   "cell_type": "code",
   "execution_count": 46,
   "id": "initial_id",
   "metadata": {
    "collapsed": true,
    "ExecuteTime": {
     "end_time": "2023-12-11T21:56:18.268922639Z",
     "start_time": "2023-12-11T21:56:18.252071500Z"
    }
   },
   "outputs": [
    {
     "name": "stdout",
     "output_type": "stream",
     "text": [
      "The autoreload extension is already loaded. To reload it, use:\n",
      "  %reload_ext autoreload\n"
     ]
    }
   ],
   "source": [
    "%load_ext autoreload\n",
    "%autoreload 2\n",
    "import sys\n",
    "import os\n",
    "\n",
    "import torch"
   ]
  },
  {
   "cell_type": "code",
   "execution_count": 47,
   "outputs": [],
   "source": [
    "from train import setup_train_args, build, train_epoch, test\n",
    "datasets = [\"Kvasir\", \"CVC\", \"both\"]\n",
    "dataset = datasets[2]\n",
    "args_train = setup_train_args(dataset=dataset, data_root=\"./data_root/\",batch_size=8)"
   ],
   "metadata": {
    "collapsed": false,
    "ExecuteTime": {
     "end_time": "2023-12-11T21:56:18.566156310Z",
     "start_time": "2023-12-11T21:56:18.550540361Z"
    }
   },
   "id": "4b6a13857325d84a"
  },
  {
   "cell_type": "code",
   "execution_count": 48,
   "outputs": [],
   "source": [
    "def train_teacher(args):\n",
    "    (\n",
    "        device,\n",
    "        train_dataloader,\n",
    "        val_dataloader,\n",
    "        Dice_loss,\n",
    "        BCE_loss,\n",
    "        perf,\n",
    "        model,\n",
    "        optimizer,\n",
    "    ) = build(args)\n",
    "    \n",
    "    loss_storage = []\n",
    "    # performance metric is dice score\n",
    "    perf_storage = []\n",
    "    if not os.path.exists(\"./Trained models\"):\n",
    "        os.makedirs(\"./Trained models\")\n",
    "\n",
    "    prev_best_test = None\n",
    "    if args.lrs == \"true\":\n",
    "        if args.lrs_min > 0:\n",
    "            scheduler = torch.optim.lr_scheduler.ReduceLROnPlateau(\n",
    "                optimizer, mode=\"max\", factor=0.5, min_lr=args.lrs_min, verbose=True\n",
    "            )\n",
    "        else:\n",
    "            scheduler = torch.optim.lr_scheduler.ReduceLROnPlateau(\n",
    "                optimizer, mode=\"max\", factor=0.5, verbose=True\n",
    "            )\n",
    "    for epoch in range(1, args.epochs + 1):\n",
    "        try:\n",
    "            loss = train_epoch(\n",
    "                model, device, train_dataloader, optimizer, epoch, Dice_loss, BCE_loss\n",
    "            )\n",
    "            test_measure_mean, test_measure_std = test(\n",
    "                model, device, val_dataloader, epoch, perf\n",
    "            )\n",
    "            # add means and loss for vis\n",
    "            loss_storage.append(loss)\n",
    "            perf_storage.append(test_measure_mean)\n",
    "            \n",
    "        except KeyboardInterrupt:\n",
    "            print(\"Training interrupted by user\")\n",
    "            sys.exit(0)\n",
    "        if args.lrs == \"true\":\n",
    "            scheduler.step(test_measure_mean)\n",
    "        if prev_best_test == None or test_measure_mean > prev_best_test:\n",
    "            print(\"Saving...\")\n",
    "            torch.save(\n",
    "                {\n",
    "                    \"epoch\": epoch,\n",
    "                    \"model_state_dict\": model.state_dict()\n",
    "                    if args.mgpu is False\n",
    "                    else model.module.state_dict(),\n",
    "                    \"optimizer_state_dict\": optimizer.state_dict(),\n",
    "                    \"loss\": loss,\n",
    "                    \"test_measure_mean\": test_measure_mean,\n",
    "                    \"test_measure_std\": test_measure_std,\n",
    "                },\n",
    "                \"Trained models/FCBFormer_\" + args.dataset + \".pt\",\n",
    "            )\n",
    "            prev_best_test = test_measure_mean\n",
    "    return loss_storage, perf_storage\n"
   ],
   "metadata": {
    "collapsed": false,
    "ExecuteTime": {
     "end_time": "2023-12-11T21:56:18.882322346Z",
     "start_time": "2023-12-11T21:56:18.861840155Z"
    }
   },
   "id": "88bea9fb782ba2fa"
  },
  {
   "cell_type": "code",
   "execution_count": 49,
   "outputs": [
    {
     "name": "stdout",
     "output_type": "stream",
     "text": [
      "Train Epoch: 1 [1288/1290 (100.0%)]\tAverage loss: 0.475360\tTime: 76.884017\n",
      "Test  Epoch: 1 [161/161 (100.0%)]\tAverage performance: 0.867256\tTime: 5.280753\n",
      "Saving...\n",
      "Train Epoch: 2 [1288/1290 (100.0%)]\tAverage loss: 0.299826\tTime: 78.156420\n",
      "Test  Epoch: 2 [161/161 (100.0%)]\tAverage performance: 0.855021\tTime: 5.301836\n",
      "Train Epoch: 3 [712/1290 (55.3%)]\tLoss: 0.158347\tTime: 43.858248Training interrupted by user\n"
     ]
    },
    {
     "ename": "AttributeError",
     "evalue": "'tuple' object has no attribute 'tb_frame'",
     "output_type": "error",
     "traceback": [
      "\u001B[0;31m---------------------------------------------------------------------------\u001B[0m",
      "\u001B[0;31mKeyboardInterrupt\u001B[0m                         Traceback (most recent call last)",
      "Cell \u001B[0;32mIn[48], line 31\u001B[0m, in \u001B[0;36mtrain_teacher\u001B[0;34m(args)\u001B[0m\n\u001B[1;32m     30\u001B[0m \u001B[38;5;28;01mtry\u001B[39;00m:\n\u001B[0;32m---> 31\u001B[0m     loss \u001B[38;5;241m=\u001B[39m \u001B[43mtrain_epoch\u001B[49m\u001B[43m(\u001B[49m\n\u001B[1;32m     32\u001B[0m \u001B[43m        \u001B[49m\u001B[43mmodel\u001B[49m\u001B[43m,\u001B[49m\u001B[43m \u001B[49m\u001B[43mdevice\u001B[49m\u001B[43m,\u001B[49m\u001B[43m \u001B[49m\u001B[43mtrain_dataloader\u001B[49m\u001B[43m,\u001B[49m\u001B[43m \u001B[49m\u001B[43moptimizer\u001B[49m\u001B[43m,\u001B[49m\u001B[43m \u001B[49m\u001B[43mepoch\u001B[49m\u001B[43m,\u001B[49m\u001B[43m \u001B[49m\u001B[43mDice_loss\u001B[49m\u001B[43m,\u001B[49m\u001B[43m \u001B[49m\u001B[43mBCE_loss\u001B[49m\n\u001B[1;32m     33\u001B[0m \u001B[43m    \u001B[49m\u001B[43m)\u001B[49m\n\u001B[1;32m     34\u001B[0m     test_measure_mean, test_measure_std \u001B[38;5;241m=\u001B[39m test(\n\u001B[1;32m     35\u001B[0m         model, device, val_dataloader, epoch, perf\n\u001B[1;32m     36\u001B[0m     )\n",
      "File \u001B[0;32m~/student_teacher/train.py:25\u001B[0m, in \u001B[0;36mtrain_epoch\u001B[0;34m(model, device, train_loader, optimizer, epoch, Dice_loss, BCE_loss)\u001B[0m\n\u001B[1;32m     24\u001B[0m loss \u001B[38;5;241m=\u001B[39m Dice_loss(output, target) \u001B[38;5;241m+\u001B[39m BCE_loss(torch\u001B[38;5;241m.\u001B[39msigmoid(output), target)\n\u001B[0;32m---> 25\u001B[0m \u001B[43mloss\u001B[49m\u001B[38;5;241;43m.\u001B[39;49m\u001B[43mbackward\u001B[49m\u001B[43m(\u001B[49m\u001B[43m)\u001B[49m\n\u001B[1;32m     26\u001B[0m optimizer\u001B[38;5;241m.\u001B[39mstep()\n",
      "File \u001B[0;32m~/miniconda3/envs/student_teacher/lib/python3.11/site-packages/torch/_tensor.py:492\u001B[0m, in \u001B[0;36mTensor.backward\u001B[0;34m(self, gradient, retain_graph, create_graph, inputs)\u001B[0m\n\u001B[1;32m    483\u001B[0m     \u001B[38;5;28;01mreturn\u001B[39;00m handle_torch_function(\n\u001B[1;32m    484\u001B[0m         Tensor\u001B[38;5;241m.\u001B[39mbackward,\n\u001B[1;32m    485\u001B[0m         (\u001B[38;5;28mself\u001B[39m,),\n\u001B[0;32m   (...)\u001B[0m\n\u001B[1;32m    490\u001B[0m         inputs\u001B[38;5;241m=\u001B[39minputs,\n\u001B[1;32m    491\u001B[0m     )\n\u001B[0;32m--> 492\u001B[0m \u001B[43mtorch\u001B[49m\u001B[38;5;241;43m.\u001B[39;49m\u001B[43mautograd\u001B[49m\u001B[38;5;241;43m.\u001B[39;49m\u001B[43mbackward\u001B[49m\u001B[43m(\u001B[49m\n\u001B[1;32m    493\u001B[0m \u001B[43m    \u001B[49m\u001B[38;5;28;43mself\u001B[39;49m\u001B[43m,\u001B[49m\u001B[43m \u001B[49m\u001B[43mgradient\u001B[49m\u001B[43m,\u001B[49m\u001B[43m \u001B[49m\u001B[43mretain_graph\u001B[49m\u001B[43m,\u001B[49m\u001B[43m \u001B[49m\u001B[43mcreate_graph\u001B[49m\u001B[43m,\u001B[49m\u001B[43m \u001B[49m\u001B[43minputs\u001B[49m\u001B[38;5;241;43m=\u001B[39;49m\u001B[43minputs\u001B[49m\n\u001B[1;32m    494\u001B[0m \u001B[43m\u001B[49m\u001B[43m)\u001B[49m\n",
      "File \u001B[0;32m~/miniconda3/envs/student_teacher/lib/python3.11/site-packages/torch/autograd/__init__.py:251\u001B[0m, in \u001B[0;36mbackward\u001B[0;34m(tensors, grad_tensors, retain_graph, create_graph, grad_variables, inputs)\u001B[0m\n\u001B[1;32m    248\u001B[0m \u001B[38;5;66;03m# The reason we repeat the same comment below is that\u001B[39;00m\n\u001B[1;32m    249\u001B[0m \u001B[38;5;66;03m# some Python versions print out the first line of a multi-line function\u001B[39;00m\n\u001B[1;32m    250\u001B[0m \u001B[38;5;66;03m# calls in the traceback and some print out the last line\u001B[39;00m\n\u001B[0;32m--> 251\u001B[0m \u001B[43mVariable\u001B[49m\u001B[38;5;241;43m.\u001B[39;49m\u001B[43m_execution_engine\u001B[49m\u001B[38;5;241;43m.\u001B[39;49m\u001B[43mrun_backward\u001B[49m\u001B[43m(\u001B[49m\u001B[43m  \u001B[49m\u001B[38;5;66;43;03m# Calls into the C++ engine to run the backward pass\u001B[39;49;00m\n\u001B[1;32m    252\u001B[0m \u001B[43m    \u001B[49m\u001B[43mtensors\u001B[49m\u001B[43m,\u001B[49m\n\u001B[1;32m    253\u001B[0m \u001B[43m    \u001B[49m\u001B[43mgrad_tensors_\u001B[49m\u001B[43m,\u001B[49m\n\u001B[1;32m    254\u001B[0m \u001B[43m    \u001B[49m\u001B[43mretain_graph\u001B[49m\u001B[43m,\u001B[49m\n\u001B[1;32m    255\u001B[0m \u001B[43m    \u001B[49m\u001B[43mcreate_graph\u001B[49m\u001B[43m,\u001B[49m\n\u001B[1;32m    256\u001B[0m \u001B[43m    \u001B[49m\u001B[43minputs\u001B[49m\u001B[43m,\u001B[49m\n\u001B[1;32m    257\u001B[0m \u001B[43m    \u001B[49m\u001B[43mallow_unreachable\u001B[49m\u001B[38;5;241;43m=\u001B[39;49m\u001B[38;5;28;43;01mTrue\u001B[39;49;00m\u001B[43m,\u001B[49m\n\u001B[1;32m    258\u001B[0m \u001B[43m    \u001B[49m\u001B[43maccumulate_grad\u001B[49m\u001B[38;5;241;43m=\u001B[39;49m\u001B[38;5;28;43;01mTrue\u001B[39;49;00m\u001B[43m,\u001B[49m\n\u001B[1;32m    259\u001B[0m \u001B[43m\u001B[49m\u001B[43m)\u001B[49m\n",
      "\u001B[0;31mKeyboardInterrupt\u001B[0m: ",
      "\nDuring handling of the above exception, another exception occurred:\n",
      "\u001B[0;31mSystemExit\u001B[0m                                Traceback (most recent call last)",
      "    \u001B[0;31m[... skipping hidden 1 frame]\u001B[0m\n",
      "Cell \u001B[0;32mIn[49], line 1\u001B[0m\n\u001B[0;32m----> 1\u001B[0m losses, perfs \u001B[38;5;241m=\u001B[39m \u001B[43mtrain_teacher\u001B[49m\u001B[43m(\u001B[49m\u001B[43margs\u001B[49m\u001B[38;5;241;43m=\u001B[39;49m\u001B[43margs_train\u001B[49m\u001B[43m)\u001B[49m\n",
      "Cell \u001B[0;32mIn[48], line 43\u001B[0m, in \u001B[0;36mtrain_teacher\u001B[0;34m(args)\u001B[0m\n\u001B[1;32m     42\u001B[0m     \u001B[38;5;28mprint\u001B[39m(\u001B[38;5;124m\"\u001B[39m\u001B[38;5;124mTraining interrupted by user\u001B[39m\u001B[38;5;124m\"\u001B[39m)\n\u001B[0;32m---> 43\u001B[0m     \u001B[43msys\u001B[49m\u001B[38;5;241;43m.\u001B[39;49m\u001B[43mexit\u001B[49m\u001B[43m(\u001B[49m\u001B[38;5;241;43m0\u001B[39;49m\u001B[43m)\u001B[49m\n\u001B[1;32m     44\u001B[0m \u001B[38;5;28;01mif\u001B[39;00m args\u001B[38;5;241m.\u001B[39mlrs \u001B[38;5;241m==\u001B[39m \u001B[38;5;124m\"\u001B[39m\u001B[38;5;124mtrue\u001B[39m\u001B[38;5;124m\"\u001B[39m:\n",
      "\u001B[0;31mSystemExit\u001B[0m: 0",
      "\nDuring handling of the above exception, another exception occurred:\n",
      "\u001B[0;31mAttributeError\u001B[0m                            Traceback (most recent call last)",
      "    \u001B[0;31m[... skipping hidden 1 frame]\u001B[0m\n",
      "File \u001B[0;32m~/miniconda3/envs/student_teacher/lib/python3.11/site-packages/IPython/core/interactiveshell.py:2121\u001B[0m, in \u001B[0;36mInteractiveShell.showtraceback\u001B[0;34m(self, exc_tuple, filename, tb_offset, exception_only, running_compiled_code)\u001B[0m\n\u001B[1;32m   2118\u001B[0m \u001B[38;5;28;01mif\u001B[39;00m exception_only:\n\u001B[1;32m   2119\u001B[0m     stb \u001B[38;5;241m=\u001B[39m [\u001B[38;5;124m'\u001B[39m\u001B[38;5;124mAn exception has occurred, use \u001B[39m\u001B[38;5;124m%\u001B[39m\u001B[38;5;124mtb to see \u001B[39m\u001B[38;5;124m'\u001B[39m\n\u001B[1;32m   2120\u001B[0m            \u001B[38;5;124m'\u001B[39m\u001B[38;5;124mthe full traceback.\u001B[39m\u001B[38;5;130;01m\\n\u001B[39;00m\u001B[38;5;124m'\u001B[39m]\n\u001B[0;32m-> 2121\u001B[0m     stb\u001B[38;5;241m.\u001B[39mextend(\u001B[38;5;28;43mself\u001B[39;49m\u001B[38;5;241;43m.\u001B[39;49m\u001B[43mInteractiveTB\u001B[49m\u001B[38;5;241;43m.\u001B[39;49m\u001B[43mget_exception_only\u001B[49m\u001B[43m(\u001B[49m\u001B[43metype\u001B[49m\u001B[43m,\u001B[49m\n\u001B[1;32m   2122\u001B[0m \u001B[43m                                                     \u001B[49m\u001B[43mvalue\u001B[49m\u001B[43m)\u001B[49m)\n\u001B[1;32m   2123\u001B[0m \u001B[38;5;28;01melse\u001B[39;00m:\n\u001B[1;32m   2125\u001B[0m     \u001B[38;5;28;01mdef\u001B[39;00m \u001B[38;5;21mcontains_exceptiongroup\u001B[39m(val):\n",
      "File \u001B[0;32m~/miniconda3/envs/student_teacher/lib/python3.11/site-packages/IPython/core/ultratb.py:710\u001B[0m, in \u001B[0;36mListTB.get_exception_only\u001B[0;34m(self, etype, value)\u001B[0m\n\u001B[1;32m    702\u001B[0m \u001B[38;5;28;01mdef\u001B[39;00m \u001B[38;5;21mget_exception_only\u001B[39m(\u001B[38;5;28mself\u001B[39m, etype, value):\n\u001B[1;32m    703\u001B[0m \u001B[38;5;250m    \u001B[39m\u001B[38;5;124;03m\"\"\"Only print the exception type and message, without a traceback.\u001B[39;00m\n\u001B[1;32m    704\u001B[0m \n\u001B[1;32m    705\u001B[0m \u001B[38;5;124;03m    Parameters\u001B[39;00m\n\u001B[0;32m   (...)\u001B[0m\n\u001B[1;32m    708\u001B[0m \u001B[38;5;124;03m    value : exception value\u001B[39;00m\n\u001B[1;32m    709\u001B[0m \u001B[38;5;124;03m    \"\"\"\u001B[39;00m\n\u001B[0;32m--> 710\u001B[0m     \u001B[38;5;28;01mreturn\u001B[39;00m \u001B[43mListTB\u001B[49m\u001B[38;5;241;43m.\u001B[39;49m\u001B[43mstructured_traceback\u001B[49m\u001B[43m(\u001B[49m\u001B[38;5;28;43mself\u001B[39;49m\u001B[43m,\u001B[49m\u001B[43m \u001B[49m\u001B[43metype\u001B[49m\u001B[43m,\u001B[49m\u001B[43m \u001B[49m\u001B[43mvalue\u001B[49m\u001B[43m)\u001B[49m\n",
      "File \u001B[0;32m~/miniconda3/envs/student_teacher/lib/python3.11/site-packages/IPython/core/ultratb.py:568\u001B[0m, in \u001B[0;36mListTB.structured_traceback\u001B[0;34m(self, etype, evalue, etb, tb_offset, context)\u001B[0m\n\u001B[1;32m    565\u001B[0m     chained_exc_ids\u001B[38;5;241m.\u001B[39madd(\u001B[38;5;28mid\u001B[39m(exception[\u001B[38;5;241m1\u001B[39m]))\n\u001B[1;32m    566\u001B[0m     chained_exceptions_tb_offset \u001B[38;5;241m=\u001B[39m \u001B[38;5;241m0\u001B[39m\n\u001B[1;32m    567\u001B[0m     out_list \u001B[38;5;241m=\u001B[39m (\n\u001B[0;32m--> 568\u001B[0m         \u001B[38;5;28;43mself\u001B[39;49m\u001B[38;5;241;43m.\u001B[39;49m\u001B[43mstructured_traceback\u001B[49m\u001B[43m(\u001B[49m\n\u001B[1;32m    569\u001B[0m \u001B[43m            \u001B[49m\u001B[43metype\u001B[49m\u001B[43m,\u001B[49m\n\u001B[1;32m    570\u001B[0m \u001B[43m            \u001B[49m\u001B[43mevalue\u001B[49m\u001B[43m,\u001B[49m\n\u001B[1;32m    571\u001B[0m \u001B[43m            \u001B[49m\u001B[43m(\u001B[49m\u001B[43metb\u001B[49m\u001B[43m,\u001B[49m\u001B[43m \u001B[49m\u001B[43mchained_exc_ids\u001B[49m\u001B[43m)\u001B[49m\u001B[43m,\u001B[49m\u001B[43m  \u001B[49m\u001B[38;5;66;43;03m# type: ignore\u001B[39;49;00m\n\u001B[1;32m    572\u001B[0m \u001B[43m            \u001B[49m\u001B[43mchained_exceptions_tb_offset\u001B[49m\u001B[43m,\u001B[49m\n\u001B[1;32m    573\u001B[0m \u001B[43m            \u001B[49m\u001B[43mcontext\u001B[49m\u001B[43m,\u001B[49m\n\u001B[1;32m    574\u001B[0m \u001B[43m        \u001B[49m\u001B[43m)\u001B[49m\n\u001B[1;32m    575\u001B[0m         \u001B[38;5;241m+\u001B[39m chained_exception_message\n\u001B[1;32m    576\u001B[0m         \u001B[38;5;241m+\u001B[39m out_list)\n\u001B[1;32m    578\u001B[0m \u001B[38;5;28;01mreturn\u001B[39;00m out_list\n",
      "File \u001B[0;32m~/miniconda3/envs/student_teacher/lib/python3.11/site-packages/IPython/core/ultratb.py:1435\u001B[0m, in \u001B[0;36mAutoFormattedTB.structured_traceback\u001B[0;34m(self, etype, evalue, etb, tb_offset, number_of_lines_of_context)\u001B[0m\n\u001B[1;32m   1433\u001B[0m \u001B[38;5;28;01melse\u001B[39;00m:\n\u001B[1;32m   1434\u001B[0m     \u001B[38;5;28mself\u001B[39m\u001B[38;5;241m.\u001B[39mtb \u001B[38;5;241m=\u001B[39m etb\n\u001B[0;32m-> 1435\u001B[0m \u001B[38;5;28;01mreturn\u001B[39;00m \u001B[43mFormattedTB\u001B[49m\u001B[38;5;241;43m.\u001B[39;49m\u001B[43mstructured_traceback\u001B[49m\u001B[43m(\u001B[49m\n\u001B[1;32m   1436\u001B[0m \u001B[43m    \u001B[49m\u001B[38;5;28;43mself\u001B[39;49m\u001B[43m,\u001B[49m\u001B[43m \u001B[49m\u001B[43metype\u001B[49m\u001B[43m,\u001B[49m\u001B[43m \u001B[49m\u001B[43mevalue\u001B[49m\u001B[43m,\u001B[49m\u001B[43m \u001B[49m\u001B[43metb\u001B[49m\u001B[43m,\u001B[49m\u001B[43m \u001B[49m\u001B[43mtb_offset\u001B[49m\u001B[43m,\u001B[49m\u001B[43m \u001B[49m\u001B[43mnumber_of_lines_of_context\u001B[49m\n\u001B[1;32m   1437\u001B[0m \u001B[43m\u001B[49m\u001B[43m)\u001B[49m\n",
      "File \u001B[0;32m~/miniconda3/envs/student_teacher/lib/python3.11/site-packages/IPython/core/ultratb.py:1326\u001B[0m, in \u001B[0;36mFormattedTB.structured_traceback\u001B[0;34m(self, etype, value, tb, tb_offset, number_of_lines_of_context)\u001B[0m\n\u001B[1;32m   1323\u001B[0m mode \u001B[38;5;241m=\u001B[39m \u001B[38;5;28mself\u001B[39m\u001B[38;5;241m.\u001B[39mmode\n\u001B[1;32m   1324\u001B[0m \u001B[38;5;28;01mif\u001B[39;00m mode \u001B[38;5;129;01min\u001B[39;00m \u001B[38;5;28mself\u001B[39m\u001B[38;5;241m.\u001B[39mverbose_modes:\n\u001B[1;32m   1325\u001B[0m     \u001B[38;5;66;03m# Verbose modes need a full traceback\u001B[39;00m\n\u001B[0;32m-> 1326\u001B[0m     \u001B[38;5;28;01mreturn\u001B[39;00m \u001B[43mVerboseTB\u001B[49m\u001B[38;5;241;43m.\u001B[39;49m\u001B[43mstructured_traceback\u001B[49m\u001B[43m(\u001B[49m\n\u001B[1;32m   1327\u001B[0m \u001B[43m        \u001B[49m\u001B[38;5;28;43mself\u001B[39;49m\u001B[43m,\u001B[49m\u001B[43m \u001B[49m\u001B[43metype\u001B[49m\u001B[43m,\u001B[49m\u001B[43m \u001B[49m\u001B[43mvalue\u001B[49m\u001B[43m,\u001B[49m\u001B[43m \u001B[49m\u001B[43mtb\u001B[49m\u001B[43m,\u001B[49m\u001B[43m \u001B[49m\u001B[43mtb_offset\u001B[49m\u001B[43m,\u001B[49m\u001B[43m \u001B[49m\u001B[43mnumber_of_lines_of_context\u001B[49m\n\u001B[1;32m   1328\u001B[0m \u001B[43m    \u001B[49m\u001B[43m)\u001B[49m\n\u001B[1;32m   1329\u001B[0m \u001B[38;5;28;01melif\u001B[39;00m mode \u001B[38;5;241m==\u001B[39m \u001B[38;5;124m'\u001B[39m\u001B[38;5;124mMinimal\u001B[39m\u001B[38;5;124m'\u001B[39m:\n\u001B[1;32m   1330\u001B[0m     \u001B[38;5;28;01mreturn\u001B[39;00m ListTB\u001B[38;5;241m.\u001B[39mget_exception_only(\u001B[38;5;28mself\u001B[39m, etype, value)\n",
      "File \u001B[0;32m~/miniconda3/envs/student_teacher/lib/python3.11/site-packages/IPython/core/ultratb.py:1173\u001B[0m, in \u001B[0;36mVerboseTB.structured_traceback\u001B[0;34m(self, etype, evalue, etb, tb_offset, number_of_lines_of_context)\u001B[0m\n\u001B[1;32m   1164\u001B[0m \u001B[38;5;28;01mdef\u001B[39;00m \u001B[38;5;21mstructured_traceback\u001B[39m(\n\u001B[1;32m   1165\u001B[0m     \u001B[38;5;28mself\u001B[39m,\n\u001B[1;32m   1166\u001B[0m     etype: \u001B[38;5;28mtype\u001B[39m,\n\u001B[0;32m   (...)\u001B[0m\n\u001B[1;32m   1170\u001B[0m     number_of_lines_of_context: \u001B[38;5;28mint\u001B[39m \u001B[38;5;241m=\u001B[39m \u001B[38;5;241m5\u001B[39m,\n\u001B[1;32m   1171\u001B[0m ):\n\u001B[1;32m   1172\u001B[0m \u001B[38;5;250m    \u001B[39m\u001B[38;5;124;03m\"\"\"Return a nice text document describing the traceback.\"\"\"\u001B[39;00m\n\u001B[0;32m-> 1173\u001B[0m     formatted_exception \u001B[38;5;241m=\u001B[39m \u001B[38;5;28;43mself\u001B[39;49m\u001B[38;5;241;43m.\u001B[39;49m\u001B[43mformat_exception_as_a_whole\u001B[49m\u001B[43m(\u001B[49m\u001B[43metype\u001B[49m\u001B[43m,\u001B[49m\u001B[43m \u001B[49m\u001B[43mevalue\u001B[49m\u001B[43m,\u001B[49m\u001B[43m \u001B[49m\u001B[43metb\u001B[49m\u001B[43m,\u001B[49m\u001B[43m \u001B[49m\u001B[43mnumber_of_lines_of_context\u001B[49m\u001B[43m,\u001B[49m\n\u001B[1;32m   1174\u001B[0m \u001B[43m                                                           \u001B[49m\u001B[43mtb_offset\u001B[49m\u001B[43m)\u001B[49m\n\u001B[1;32m   1176\u001B[0m     colors \u001B[38;5;241m=\u001B[39m \u001B[38;5;28mself\u001B[39m\u001B[38;5;241m.\u001B[39mColors  \u001B[38;5;66;03m# just a shorthand + quicker name lookup\u001B[39;00m\n\u001B[1;32m   1177\u001B[0m     colorsnormal \u001B[38;5;241m=\u001B[39m colors\u001B[38;5;241m.\u001B[39mNormal  \u001B[38;5;66;03m# used a lot\u001B[39;00m\n",
      "File \u001B[0;32m~/miniconda3/envs/student_teacher/lib/python3.11/site-packages/IPython/core/ultratb.py:1063\u001B[0m, in \u001B[0;36mVerboseTB.format_exception_as_a_whole\u001B[0;34m(self, etype, evalue, etb, number_of_lines_of_context, tb_offset)\u001B[0m\n\u001B[1;32m   1060\u001B[0m \u001B[38;5;28;01massert\u001B[39;00m \u001B[38;5;28misinstance\u001B[39m(tb_offset, \u001B[38;5;28mint\u001B[39m)\n\u001B[1;32m   1061\u001B[0m head \u001B[38;5;241m=\u001B[39m \u001B[38;5;28mself\u001B[39m\u001B[38;5;241m.\u001B[39mprepare_header(\u001B[38;5;28mstr\u001B[39m(etype), \u001B[38;5;28mself\u001B[39m\u001B[38;5;241m.\u001B[39mlong_header)\n\u001B[1;32m   1062\u001B[0m records \u001B[38;5;241m=\u001B[39m (\n\u001B[0;32m-> 1063\u001B[0m     \u001B[38;5;28;43mself\u001B[39;49m\u001B[38;5;241;43m.\u001B[39;49m\u001B[43mget_records\u001B[49m\u001B[43m(\u001B[49m\u001B[43metb\u001B[49m\u001B[43m,\u001B[49m\u001B[43m \u001B[49m\u001B[43mnumber_of_lines_of_context\u001B[49m\u001B[43m,\u001B[49m\u001B[43m \u001B[49m\u001B[43mtb_offset\u001B[49m\u001B[43m)\u001B[49m \u001B[38;5;28;01mif\u001B[39;00m etb \u001B[38;5;28;01melse\u001B[39;00m []\n\u001B[1;32m   1064\u001B[0m )\n\u001B[1;32m   1066\u001B[0m frames \u001B[38;5;241m=\u001B[39m []\n\u001B[1;32m   1067\u001B[0m skipped \u001B[38;5;241m=\u001B[39m \u001B[38;5;241m0\u001B[39m\n",
      "File \u001B[0;32m~/miniconda3/envs/student_teacher/lib/python3.11/site-packages/IPython/core/ultratb.py:1131\u001B[0m, in \u001B[0;36mVerboseTB.get_records\u001B[0;34m(self, etb, number_of_lines_of_context, tb_offset)\u001B[0m\n\u001B[1;32m   1129\u001B[0m \u001B[38;5;28;01mwhile\u001B[39;00m cf \u001B[38;5;129;01mis\u001B[39;00m \u001B[38;5;129;01mnot\u001B[39;00m \u001B[38;5;28;01mNone\u001B[39;00m:\n\u001B[1;32m   1130\u001B[0m     \u001B[38;5;28;01mtry\u001B[39;00m:\n\u001B[0;32m-> 1131\u001B[0m         mod \u001B[38;5;241m=\u001B[39m inspect\u001B[38;5;241m.\u001B[39mgetmodule(\u001B[43mcf\u001B[49m\u001B[38;5;241;43m.\u001B[39;49m\u001B[43mtb_frame\u001B[49m)\n\u001B[1;32m   1132\u001B[0m         \u001B[38;5;28;01mif\u001B[39;00m mod \u001B[38;5;129;01mis\u001B[39;00m \u001B[38;5;129;01mnot\u001B[39;00m \u001B[38;5;28;01mNone\u001B[39;00m:\n\u001B[1;32m   1133\u001B[0m             mod_name \u001B[38;5;241m=\u001B[39m mod\u001B[38;5;241m.\u001B[39m\u001B[38;5;18m__name__\u001B[39m\n",
      "\u001B[0;31mAttributeError\u001B[0m: 'tuple' object has no attribute 'tb_frame'"
     ]
    }
   ],
   "source": [
    "losses, perfs = train_teacher(args=args_train)"
   ],
   "metadata": {
    "collapsed": false,
    "ExecuteTime": {
     "end_time": "2023-12-11T21:59:51.772411697Z",
     "start_time": "2023-12-11T21:56:19.371979453Z"
    }
   },
   "id": "4cae2bf947fdf1c6"
  },
  {
   "cell_type": "code",
   "execution_count": null,
   "outputs": [],
   "source": [],
   "metadata": {
    "collapsed": false
   },
   "id": "ad1691ef844c5223"
  }
 ],
 "metadata": {
  "kernelspec": {
   "display_name": "Python 3",
   "language": "python",
   "name": "python3"
  },
  "language_info": {
   "codemirror_mode": {
    "name": "ipython",
    "version": 2
   },
   "file_extension": ".py",
   "mimetype": "text/x-python",
   "name": "python",
   "nbconvert_exporter": "python",
   "pygments_lexer": "ipython2",
   "version": "2.7.6"
  }
 },
 "nbformat": 4,
 "nbformat_minor": 5
}
