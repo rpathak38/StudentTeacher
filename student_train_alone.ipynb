{
 "cells": [
  {
   "cell_type": "code",
   "execution_count": 67,
   "id": "initial_id",
   "metadata": {
    "collapsed": true,
    "ExecuteTime": {
     "end_time": "2023-12-12T08:53:05.237714082Z",
     "start_time": "2023-12-12T08:53:05.195592264Z"
    }
   },
   "outputs": [
    {
     "name": "stdout",
     "output_type": "stream",
     "text": [
      "The autoreload extension is already loaded. To reload it, use:\n",
      "  %reload_ext autoreload\n"
     ]
    }
   ],
   "source": [
    "%load_ext autoreload\n",
    "%autoreload 2\n",
    "import sys\n",
    "import os\n",
    "import matplotlib.pyplot as plt\n",
    "import torch\n",
    "from visualizer import visualize_random_image, visualize_loss_acc_plot\n",
    "from train import setup_train_args, build, test"
   ]
  },
  {
   "cell_type": "code",
   "execution_count": 68,
   "outputs": [],
   "source": [
    "datasets = [\"Kvasir\", \"CVC\", \"both\"]\n",
    "dataset = datasets[2]"
   ],
   "metadata": {
    "collapsed": false,
    "ExecuteTime": {
     "end_time": "2023-12-12T08:53:05.683006432Z",
     "start_time": "2023-12-12T08:53:05.665693013Z"
    }
   },
   "id": "2085f98ee3f938e2"
  },
  {
   "cell_type": "code",
   "execution_count": 69,
   "outputs": [],
   "source": [
    "args_train_student = setup_train_args(my_model=\"unet\", temperature=4, alpha=0.9, dataset=dataset,\n",
    "                                      data_root=\"./data_root/\", batch_size=8, epochs=60, learning_rate=0.001)\n",
    "from train import train_epoch"
   ],
   "metadata": {
    "collapsed": false,
    "ExecuteTime": {
     "end_time": "2023-12-12T08:53:06.074831667Z",
     "start_time": "2023-12-12T08:53:06.055628590Z"
    }
   },
   "id": "4d04136fc87ac5e9"
  },
  {
   "cell_type": "code",
   "execution_count": 70,
   "outputs": [],
   "source": [
    "def train_student(args):\n",
    "    (device,\n",
    "     train_dataloader,\n",
    "     test_dataloader,\n",
    "     val_dataloader,\n",
    "     Dice_loss,\n",
    "     BCE_loss,\n",
    "     KLT_loss,\n",
    "     perf,\n",
    "     student_model,\n",
    "     _,\n",
    "     optimizer,\n",
    "     alpha,\n",
    "     temperature) = build(args)\n",
    "\n",
    "\n",
    "    loss_storage = []\n",
    "    # performance metric is dice score\n",
    "    perf_storage = []\n",
    "\n",
    "    if not os.path.exists(\"./Trained_student_models/trained_alone/\"):\n",
    "        os.makedirs(\"./Trained_student_models/trained_alone/\")\n",
    "        \n",
    "    model_name = student_model.__class__.__name__\n",
    "    my_path = f\"Trained_student_models/trained_alone/{model_name}_temp_{temperature}_alpha_{alpha}_lr_{args_train_student.lr}\" + args.dataset\n",
    "    prev_best_test = None\n",
    "    if args.lrs == \"true\":\n",
    "        if args.lrs_min > 0:\n",
    "            scheduler = torch.optim.lr_scheduler.ReduceLROnPlateau(\n",
    "                optimizer, mode=\"max\", factor=0.5, min_lr=args.lrs_min, verbose=True, patience=6\n",
    "            )\n",
    "        else:\n",
    "            scheduler = torch.optim.lr_scheduler.ReduceLROnPlateau(\n",
    "                optimizer, mode=\"max\", factor=0.5, verbose=True, patience=6\n",
    "            )\n",
    "    for epoch in range(1, args.epochs + 1):\n",
    "        try:\n",
    "            loss = train_epoch(student_model, device, train_dataloader,\n",
    "                                       optimizer, epoch, Dice_loss, BCE_loss)\n",
    "\n",
    "            test_measure_mean, test_measure_std = test(\n",
    "                student_model, device, val_dataloader, epoch, perf\n",
    "            )\n",
    "            # add means and loss for vis\n",
    "            loss_storage.append(loss)\n",
    "            perf_storage.append(test_measure_mean)\n",
    "\n",
    "        except KeyboardInterrupt:\n",
    "            print(\"Training interrupted by user\")\n",
    "            sys.exit(0)\n",
    "        if args.lrs == \"true\":\n",
    "            scheduler.step(test_measure_mean)\n",
    "        # if prev_best_test == None or test_measure_mean > prev_best_test:\n",
    "        #     print(\"Saving...\")\n",
    "        #     torch.save(\n",
    "        #         {\n",
    "        #             \"epoch\": epoch,\n",
    "        #             \"model_state_dict\": student_model.state_dict()\n",
    "        #             if args.mgpu is False\n",
    "        #             else student_model.module.state_dict(),\n",
    "        #             \"optimizer_state_dict\": optimizer.state_dict(),\n",
    "        #             \"loss\": loss,\n",
    "        #             \"test_measure_mean\": test_measure_mean,\n",
    "        #             \"test_measure_std\": test_measure_std,\n",
    "        #         },\n",
    "        #         my_path + \".pt\",\n",
    "        #     )\n",
    "        #     prev_best_test = test_measure_mean\n",
    "        # if epoch == 1 or epoch == args.epochs + 1: \n",
    "        #     visualize_random_image(test_dataloader, student_model)\n",
    "    \n",
    "    return loss_storage, perf_storage, my_path"
   ],
   "metadata": {
    "collapsed": false,
    "ExecuteTime": {
     "end_time": "2023-12-12T08:53:06.493284626Z",
     "start_time": "2023-12-12T08:53:06.469358637Z"
    }
   },
   "id": "62fc06d506e50bc4"
  },
  {
   "cell_type": "code",
   "execution_count": null,
   "outputs": [],
   "source": [
    "losses, perfs, path = train_student(args_train_student)"
   ],
   "metadata": {
    "collapsed": false
   },
   "id": "1e5cba833e89a827"
  },
  {
   "cell_type": "code",
   "execution_count": 73,
   "outputs": [
    {
     "ename": "TypeError",
     "evalue": "unsupported operand type(s) for +: 'NoneType' and 'str'",
     "output_type": "error",
     "traceback": [
      "\u001B[0;31m---------------------------------------------------------------------------\u001B[0m",
      "\u001B[0;31mTypeError\u001B[0m                                 Traceback (most recent call last)",
      "Cell \u001B[0;32mIn[73], line 1\u001B[0m\n\u001B[0;32m----> 1\u001B[0m visualize_loss_acc_plot(losses, acc_list\u001B[38;5;241m=\u001B[39mperfs, path\u001B[38;5;241m=\u001B[39m\u001B[43mmy_path\u001B[49m\u001B[38;5;241;43m+\u001B[39;49m\u001B[38;5;124;43m\"\u001B[39;49m\u001B[38;5;124;43m.png\u001B[39;49m\u001B[38;5;124;43m\"\u001B[39;49m)\n",
      "\u001B[0;31mTypeError\u001B[0m: unsupported operand type(s) for +: 'NoneType' and 'str'"
     ]
    }
   ],
   "source": [
    "visualize_loss_acc_plot(losses, acc_list=perfs, path=path+\".png\")"
   ],
   "metadata": {
    "collapsed": false,
    "ExecuteTime": {
     "end_time": "2023-12-12T09:27:06.616226859Z",
     "start_time": "2023-12-12T09:27:06.563332152Z"
    }
   },
   "id": "85827c16778d028b"
  },
  {
   "cell_type": "code",
   "execution_count": null,
   "outputs": [],
   "source": [],
   "metadata": {
    "collapsed": false
   },
   "id": "c33ae56cc4fabc4b"
  }
 ],
 "metadata": {
  "kernelspec": {
   "display_name": "Python 3",
   "language": "python",
   "name": "python3"
  },
  "language_info": {
   "codemirror_mode": {
    "name": "ipython",
    "version": 2
   },
   "file_extension": ".py",
   "mimetype": "text/x-python",
   "name": "python",
   "nbconvert_exporter": "python",
   "pygments_lexer": "ipython2",
   "version": "2.7.6"
  }
 },
 "nbformat": 4,
 "nbformat_minor": 5
}
